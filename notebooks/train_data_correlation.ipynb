{
 "cells": [
  {
   "cell_type": "code",
   "execution_count": 1,
   "id": "f18bd89e",
   "metadata": {},
   "outputs": [],
   "source": [
    "import pathlib\n",
    "import numpy as np\n",
    "\n",
    "\n",
    "def get_counts(folder):\n",
    "    counts_total = None\n",
    "    for file in pathlib.Path(folder).glob(\"*\"):\n",
    "        if counts_total is None:\n",
    "            counts_total = np.load(file)\n",
    "        else:\n",
    "            counts_total += np.load(file)\n",
    "    return counts_total"
   ]
  },
  {
   "cell_type": "code",
   "execution_count": 6,
   "id": "f0779dc2",
   "metadata": {},
   "outputs": [],
   "source": [
    "# Paths to folders with .npy files of caption partition counts (see dataset_synset_counts)\n",
    "counts_2B = get_counts(\"YOUR_PATH_TO_COUNTS_DIRECTORY\")\n",
    "counts_400M = get_counts(\"YOUR_PATH_TO_COUNTS_DIRECTORY\")\n",
    "counts_coyo = get_counts(\"YOUR_PATH_TO_COUNTS_DIRECTORY\")"
   ]
  },
  {
   "cell_type": "code",
   "execution_count": null,
   "id": "9726b798",
   "metadata": {},
   "outputs": [],
   "source": [
    "from src import hierarchy, prompt\n",
    "\n",
    "h = hierarchy.Hierarchy(\"../wordnet_classes/imagenet.txt\")\n",
    "all_lemmas = []\n",
    "\n",
    "for s in h.get_all_synsets(True):\n",
    "    all_lemmas.append((prompt.clean_lemma(s.lemmas()[0].name()), s))\n",
    "\n",
    "all_lemmas.sort()\n",
    "synset_to_idx = {\n",
    "    x[1].name(): i for i, x in enumerate(all_lemmas)\n",
    "}\n",
    "synset_to_lemma = {\n",
    "    y.name(): x for x, y in all_lemmas\n",
    "}"
   ]
  },
  {
   "cell_type": "code",
   "execution_count": 19,
   "id": "420e3c97",
   "metadata": {},
   "outputs": [],
   "source": [
    "import pickle\n",
    "from scipy.stats import spearmanr\n",
    "import matplotlib.pyplot as plt\n",
    "\n",
    "def get_corr(model_name, counts):\n",
    "    ispm = np.load(f\"YOUR_PATH_TO_METRICS/{model_name}/subtree_in_prob_32.npz\")\n",
    "    scsm = np.load(f\"YOUR_PATH_TO_METRICS/{model_name}/subtree_is.npz\")\n",
    "\n",
    "    isp_k = [x for x in sorted(ispm.keys()) if x != \"average\" and len(synset_to_lemma[x].split()) == 1]\n",
    "    scs_k = [x for x in sorted(scsm.keys()) if x != \"average\" and len(synset_to_lemma[x].split()) == 1]\n",
    "\n",
    "    isp = [ispm[x] for x in isp_k]\n",
    "    isp_counts = [counts[synset_to_idx[x]] for x in isp_k]\n",
    "    scs = [scsm[x] for x in scs_k]\n",
    "    scs_counts = [counts[synset_to_idx[x]] for x in scs_k]\n",
    "\n",
    "    return spearmanr(isp, isp_counts), spearmanr(scs, scs_counts)"
   ]
  },
  {
   "cell_type": "code",
   "execution_count": 24,
   "id": "286a0743",
   "metadata": {},
   "outputs": [],
   "source": [
    "pretty_names = [\n",
    "    \"GLIDE\",\n",
    "    \"LDM\",\n",
    "    \"SD 1.4\",\n",
    "    \"SD 2.0\",\n",
    "    \"unCLIP\",\n",
    "]"
   ]
  },
  {
   "cell_type": "code",
   "execution_count": 35,
   "id": "80fe0407",
   "metadata": {},
   "outputs": [],
   "source": [
    "def make_table():\n",
    "    print(\"ISP\")\n",
    "    print(\"Model\", \"400M\\t\", \"2B\\t\", \"COYO\\t\", sep=\"\\t\")\n",
    "    for i, model in enumerate([\"glide_75\", \"ldm_75\", \"sd14_75\", \"sd20_75\", \"unclip_75\"]):\n",
    "        results = []\n",
    "        for counts in [counts_400M, counts_2B, counts_coyo]:\n",
    "            isp_corr, scs_corr = get_corr(model, counts)\n",
    "            results.append(f\"{isp_corr.statistic:.2f} ({isp_corr.pvalue:.2f})\")\n",
    "        print(pretty_names[i], *results, sep=\"\\t\")\n",
    "    \n",
    "    print()\n",
    "    print(\"SCS\")\n",
    "    print(\"Model\", \"400M\\t\", \"2B\\t\", \"COYO\\t\", sep=\"\\t\")\n",
    "    for i, model in enumerate([\"glide_75\", \"ldm_75\", \"sd14_75\", \"sd20_75\", \"unclip_75\"]):\n",
    "        results = []\n",
    "        for counts in [counts_400M, counts_2B, counts_coyo]:\n",
    "            isp_corr, scs_corr = get_corr(model, counts)\n",
    "            results.append(f\"{scs_corr.statistic:.2f} ({scs_corr.pvalue:.2f})\")\n",
    "        print(pretty_names[i], *results, sep=\"\\t\")"
   ]
  },
  {
   "cell_type": "code",
   "execution_count": 36,
   "id": "ec03c13c",
   "metadata": {},
   "outputs": [
    {
     "name": "stdout",
     "output_type": "stream",
     "text": [
      "ISP\n",
      "Model\t400M\t\t2B\t\tCOYO\t\n",
      "GLIDE\t0.19 (0.00)\t0.18 (0.00)\t0.16 (0.00)\n",
      "LDM\t0.29 (0.00)\t0.27 (0.00)\t0.24 (0.00)\n",
      "SD 1.4\t0.06 (0.15)\t0.04 (0.34)\t0.01 (0.81)\n",
      "SD 2.0\t0.10 (0.01)\t0.08 (0.04)\t0.05 (0.18)\n",
      "unCLIP\t0.02 (0.63)\t0.00 (0.91)\t-0.02 (0.61)\n",
      "\n",
      "SCS\n",
      "Model\t400M\t\t2B\t\tCOYO\t\n",
      "GLIDE\t0.28 (0.00)\t0.29 (0.00)\t0.29 (0.00)\n",
      "LDM\t0.15 (0.01)\t0.16 (0.00)\t0.17 (0.00)\n",
      "SD 1.4\t0.00 (0.97)\t0.01 (0.83)\t0.03 (0.64)\n",
      "SD 2.0\t0.07 (0.21)\t0.08 (0.16)\t0.08 (0.12)\n",
      "unCLIP\t0.04 (0.44)\t0.05 (0.32)\t0.08 (0.17)\n"
     ]
    }
   ],
   "source": [
    "make_table()"
   ]
  }
 ],
 "metadata": {
  "kernelspec": {
   "display_name": "Python 3 (ipykernel)",
   "language": "python",
   "name": "python3"
  },
  "language_info": {
   "codemirror_mode": {
    "name": "ipython",
    "version": 3
   },
   "file_extension": ".py",
   "mimetype": "text/x-python",
   "name": "python",
   "nbconvert_exporter": "python",
   "pygments_lexer": "ipython3",
   "version": "3.10.6"
  }
 },
 "nbformat": 4,
 "nbformat_minor": 5
}
