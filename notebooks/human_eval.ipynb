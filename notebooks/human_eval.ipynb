{
 "cells": [
  {
   "cell_type": "code",
   "execution_count": 104,
   "id": "0f65ff34",
   "metadata": {},
   "outputs": [],
   "source": [
    "import pandas as pd\n",
    "from crowdkit.metrics.data._classification import alpha_krippendorff"
   ]
  },
  {
   "cell_type": "code",
   "execution_count": 126,
   "id": "74d75c2f",
   "metadata": {},
   "outputs": [],
   "source": [
    "def precision_analysis(fname):\n",
    "    df = pd.read_csv(fname, sep=\"\\t\")\n",
    "    a_better = (\n",
    "        (df[df[\"INPUT:label\"] == 0][\"OUTPUT:result\"] == \"a\").sum() +\n",
    "        (df[df[\"INPUT:label\"] == 1][\"OUTPUT:result\"] == \"b\").sum()\n",
    "    )\n",
    "    \n",
    "    b_better = (\n",
    "        (df[df[\"INPUT:label\"] == 0][\"OUTPUT:result\"] == \"b\").sum() +\n",
    "        (df[df[\"INPUT:label\"] == 1][\"OUTPUT:result\"] == \"a\").sum()\n",
    "    )\n",
    "    \n",
    "    df[\"label\"] = df[\"OUTPUT:result\"]\n",
    "    df[(df[\"INPUT:label\"] == 1) & (df[\"label\"] == \"a\")] = \"b\"\n",
    "    df[(df[\"INPUT:label\"] == 1) & (df[\"label\"] == \"b\")] = \"a\"\n",
    "    \n",
    "    df_agreement = df[[\"ASSIGNMENT:task_id\", \"ASSIGNMENT:worker_id\", \"label\"]]\n",
    "    df_agreement = df_agreement.rename(columns={\n",
    "        \"ASSIGNMENT:task_id\": \"task\",\n",
    "        \"ASSIGNMENT:worker_id\": \"worker\",\n",
    "    })\n",
    "    \n",
    "    alpha_inc_none = alpha_krippendorff(df_agreement)\n",
    "    \n",
    "    df_agreement = df_agreement[df_agreement[\"label\"] != \"none\"]\n",
    "    \n",
    "    none = (df[\"OUTPUT:result\"] == \"none\").sum()\n",
    "    \n",
    "    print(f\"A was preferred over B in {a_better / (a_better + b_better) * 100:.2f}% cases (exc. none).\")\n",
    "    print(f\"A was equal to B in {none / (a_better + b_better + none) * 100:.2f}% cases.\")\n",
    "    print(f\"Alpha: {alpha_krippendorff(df_agreement)} for {len(df_agreement) / len(df) * 100:.2f}% nonequal\")\n",
    "    print(f\"Alpha: {alpha_inc_none} for all\")\n",
    "    \n",
    "    return df, (a_better, b_better, none)"
   ]
  },
  {
   "cell_type": "markdown",
   "id": "466d66b7",
   "metadata": {},
   "source": [
    "## Precision big"
   ]
  },
  {
   "cell_type": "code",
   "execution_count": 133,
   "id": "7c5afb3e",
   "metadata": {},
   "outputs": [
    {
     "name": "stdout",
     "output_type": "stream",
     "text": [
      "A was preferred over B in 82.93% cases (exc. none).\n",
      "A was equal to B in 50.05% cases.\n",
      "Alpha: 0.7449859451256315 for 49.95% nonequal\n",
      "Alpha: 0.5618428799730844 for all\n"
     ]
    }
   ],
   "source": [
    "result = precision_analysis(\"results_precision_sd_ldm_big.tsv\")"
   ]
  },
  {
   "cell_type": "code",
   "execution_count": 134,
   "id": "5e8de3d0",
   "metadata": {},
   "outputs": [
    {
     "name": "stdout",
     "output_type": "stream",
     "text": [
      "A was preferred over B in 50.87% cases (exc. none).\n",
      "A was equal to B in 67.83% cases.\n",
      "Alpha: 0.8241141374837873 for 32.17% nonequal\n",
      "Alpha: 0.5971487302683917 for all\n"
     ]
    }
   ],
   "source": [
    "result = precision_analysis(\"results_precision_sd_unclip_big.tsv\")"
   ]
  },
  {
   "cell_type": "code",
   "execution_count": 135,
   "id": "c213ca48",
   "metadata": {},
   "outputs": [
    {
     "name": "stdout",
     "output_type": "stream",
     "text": [
      "A was preferred over B in 74.73% cases (exc. none).\n",
      "A was equal to B in 57.31% cases.\n",
      "Alpha: 0.809749959778646 for 42.69% nonequal\n",
      "Alpha: 0.6109506954335422 for all\n"
     ]
    }
   ],
   "source": [
    "result = precision_analysis(\"results_precision_sd_75_sd_25_big.tsv\")"
   ]
  },
  {
   "cell_type": "markdown",
   "id": "91bbf3d5",
   "metadata": {},
   "source": [
    "## Diversity big"
   ]
  },
  {
   "cell_type": "code",
   "execution_count": 136,
   "id": "76d224f8",
   "metadata": {},
   "outputs": [
    {
     "name": "stdout",
     "output_type": "stream",
     "text": [
      "A was preferred over B in 78.14% cases (exc. none).\n",
      "A was equal to B in 22.33% cases.\n",
      "Alpha: 0.5824673773880005 for 77.67% nonequal\n",
      "Alpha: 0.5184648489425314 for all\n"
     ]
    }
   ],
   "source": [
    "result = precision_analysis(\"results_diversity_sd_ldm_big.tsv\")"
   ]
  },
  {
   "cell_type": "code",
   "execution_count": 137,
   "id": "3d84c6d5",
   "metadata": {},
   "outputs": [
    {
     "name": "stdout",
     "output_type": "stream",
     "text": [
      "A was preferred over B in 73.17% cases (exc. none).\n",
      "A was equal to B in 21.60% cases.\n",
      "Alpha: 0.6342236674423759 for 78.40% nonequal\n",
      "Alpha: 0.546370333060505 for all\n"
     ]
    }
   ],
   "source": [
    "result = precision_analysis(\"results_diversity_sd_unclip_big.tsv\")"
   ]
  },
  {
   "cell_type": "code",
   "execution_count": 138,
   "id": "39e680d0",
   "metadata": {},
   "outputs": [
    {
     "name": "stdout",
     "output_type": "stream",
     "text": [
      "A was preferred over B in 42.53% cases (exc. none).\n",
      "A was equal to B in 29.65% cases.\n",
      "Alpha: 0.5787748934450325 for 70.35% nonequal\n",
      "Alpha: 0.520690406379795 for all\n"
     ]
    }
   ],
   "source": [
    "result = precision_analysis(\"results_diversity_sd_75_sd_25_big.tsv\")"
   ]
  }
 ],
 "metadata": {
  "kernelspec": {
   "display_name": "Python 3 (ipykernel)",
   "language": "python",
   "name": "python3"
  },
  "language_info": {
   "codemirror_mode": {
    "name": "ipython",
    "version": 3
   },
   "file_extension": ".py",
   "mimetype": "text/x-python",
   "name": "python",
   "nbconvert_exporter": "python",
   "pygments_lexer": "ipython3",
   "version": "3.10.6"
  }
 },
 "nbformat": 4,
 "nbformat_minor": 5
}
